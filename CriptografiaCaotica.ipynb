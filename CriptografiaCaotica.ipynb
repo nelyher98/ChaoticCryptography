{
 "cells": [
  {
   "cell_type": "markdown",
   "metadata": {},
   "source": [
    "## Criptografía Caótica"
   ]
  },
  {
   "cell_type": "markdown",
   "metadata": {},
   "source": [
    "* Alumna: Hernández García Nely"
   ]
  },
  {
   "cell_type": "code",
   "execution_count": 22,
   "metadata": {},
   "outputs": [],
   "source": [
    "#Import Libraries\n",
    "import numpy as np\n",
    "import matplotlib.pyplot as plt\n",
    "from matplotlib.backends.backend_tkagg import FigureCanvasTkAgg\n",
    "import tkinter as tk \n",
    "from tkinter import *"
   ]
  },
  {
   "cell_type": "code",
   "execution_count": 54,
   "metadata": {},
   "outputs": [],
   "source": [
    "def atractorHenon():\n",
    "        x = [0]\n",
    "        y = [0]\n",
    "        inicial = [0, 0]\n",
    "        n = 200\n",
    "        x_m = 0.39912\n",
    "        s = []\n",
    "        for i in range(1, n):\n",
    "            x.append(y[i-1] + 1 - 1.4*x[i-1]**2)\n",
    "            y.append(0.3*x[i-1])\n",
    "            if (x[i] <= x_m):\n",
    "                s.append(0)\n",
    "            else:\n",
    "                s.append(1)\n",
    "        lblHeron.config(text=str(\"Initial co-ordinates:  \" + str(inicial) + \"\\n\\nCo-ordinates X:  \" +  '\\n' + str(x) + \"\\n\\nCo-ordinates Y:  \" +  '\\n' + str(y) + \"\\n\\nX_m: \" + str(x_m) + \"\\n\\nBinary Sequence: \" + '\\n' + str(s) +  '\\n\\n'))\n",
    "        \n",
    "        figure = plt.Figure(figsize=(5,4), dpi=100)\n",
    "        fig = figure.add_subplot(111)\n",
    "        line2 = FigureCanvasTkAgg(figure, frame)\n",
    "        line2.get_tk_widget().pack(side=tk.LEFT, fill=tk.BOTH)\n",
    "        x_c = [-1.33, 1.32, 1.245, -1.06, -1.33]\n",
    "        y_c = [0.42, 0.133, -0.14, -0.5, 0.42]\n",
    "        fig.plot(x_c, y_c, label=\"Container\", marker=\"o\", markersize=\"5\", markeredgewidth=\"2\", markerfacecolor=\"blue\", color=\"blue\", markeredgecolor=\"white\")\n",
    "        fig.plot(x,y, 'o', label=\"H(x_i, y_i)\", markersize=\"2\", color=\"green\")\n",
    "        fig.plot(0, 0, 'o', label=\"(x_0, y_0)\", markersize=\"10\", markeredgewidth=\"2\", markerfacecolor=\"red\", markeredgecolor=\"white\")\n",
    "        fig.set_title(\"Henon Attractor\")\n",
    "        fig.spines['right'].set_color('none')\n",
    "        fig.spines['top'].set_color('none')\n",
    "        fig.xaxis.set_ticks_position('bottom')\n",
    "        fig.spines['bottom'].set_position(('data',0))\n",
    "        fig.yaxis.set_ticks_position('left')\n",
    "        fig.spines['left'].set_position(('data',0))"
   ]
  },
  {
   "cell_type": "code",
   "execution_count": 57,
   "metadata": {},
   "outputs": [],
   "source": [
    "root = tk.Tk()\n",
    "root.title(\"Tarea 04: Criptografía Caótica\")\n",
    "root.configure(background=\"#CFF800\")\n",
    "\n",
    "#Creating a frame\n",
    "frame = tk.Frame(root, bg = \"#CFF800\")\n",
    "frame.pack()\n",
    "\n",
    "#GUI\n",
    "lblname = Label(frame, text = 'Alumna: Nely Hernández García', bg=\"#CFF800\", fg=\"white\")\n",
    "lblname.pack(pady=10, side = tk.TOP)\n",
    "lblname.config(font=(\"Comic Sans MS\", 14))\n",
    "\n",
    "w = tk.Button(frame, text=\"Henon Attractor\", bg=\"#00CDAC\", fg=\"white\", command=atractorHenon)\n",
    "w.pack(padx=20, pady=10, side=tk.LEFT)\n",
    "w.config(font=(\"Courier\", 10))\n",
    "\n",
    "lblHeron = tk.Label(root, fg=\"#FF6F68\")\n",
    "lblHeron.pack(pady=10)\n",
    "lblHeron.config(font=(\"Arial\", 12))\n",
    "\n",
    "root.mainloop()"
   ]
  },
  {
   "cell_type": "code",
   "execution_count": null,
   "metadata": {},
   "outputs": [],
   "source": []
  }
 ],
 "metadata": {
  "kernelspec": {
   "display_name": "Python 3",
   "language": "python",
   "name": "python3"
  },
  "language_info": {
   "codemirror_mode": {
    "name": "ipython",
    "version": 3
   },
   "file_extension": ".py",
   "mimetype": "text/x-python",
   "name": "python",
   "nbconvert_exporter": "python",
   "pygments_lexer": "ipython3",
   "version": "3.7.6"
  }
 },
 "nbformat": 4,
 "nbformat_minor": 4
}
